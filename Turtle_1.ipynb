{
 "cells": [
  {
   "cell_type": "markdown",
   "id": "3cf6205a",
   "metadata": {},
   "source": [
    "# Turtle Programming\n",
    "We gaan in de volgende lessen schildpadden programmeren zodat we iets kunnen tekenen. Dit laten doen is heel makkelijk. Wat je moet weten is dat de `Turtle` altijd naar voren beweegt naar waar dat die kijkt. Dus zorg ervoor dat je `Turtle` altijd de juiste kant op wijst met behulp van de draai functies.\n",
    "\n",
    "## Turtle functies\n",
    "De schildpad kan verschillende functies uitvoeren. Elk van deze functies moet een waarde tussen de `()` krijgen. Deze waarde kan verschillende dingen betekenen. De functies die van belang zijn staan hieronder uitgelegd:\n",
    "- `.forward()`. Hiermee gaat de `Turtle` vooruit. Tussen de `()` zet je hoever dat de `Turtle` moet bewegen\n",
    "- `.backward()`. Hiermee gaat de `Turtle` achteruit. Tussen de `()` zet je hoever dat de `Turtle` moet bewegen\n",
    "- `.right()`. Hiermee draait de `Turtle` naar rechts. Tussen de `()` zet je hoeveel graden dat de `Turtle` moet draaien\n",
    "- `.left()`. Hiermee draait de `Turtle` naar links. Tussen `()` zet je hoeveel graden dat de `Turtle` moet draaien\n",
    "\n",
    "Hieronder zie je een voorbeeld van hoe een simpel `Turtle` programma werkt, achter elke regel staat in het groen wat het doet:"
   ]
  },
  {
   "cell_type": "code",
   "execution_count": null,
   "id": "4081cf9e-3fe9-4d6b-b888-0e6b6a7f6217",
   "metadata": {},
   "outputs": [],
   "source": [
    "t = Turtle(width=200, height=200) #Hier maken we een schildpad aan met de naam `t`. De naam kan je eventueel nog veranderen\n",
    "t.forward(100) #We roepen op onze schildpad `t` de functie `forward(100) aan om hem zo vooruit te laten bewegen\n",
    "t #Hiermee laten we de Turtle zien"
   ]
  },
  {
   "cell_type": "markdown",
   "id": "64d28227",
   "metadata": {},
   "source": [
    "## Opdrachten\n",
    "\n",
    "### Opdracht 1\n",
    "Teken een lijn met behulp van een schildpad (Zorg ervoor dat je de uitleg code van hierboven uitvoert, dan is de schildpad `t` aangemaakt)"
   ]
  },
  {
   "cell_type": "code",
   "execution_count": null,
   "id": "1c50a10c-b392-4c5f-8c11-1cf314b55ffd",
   "metadata": {},
   "outputs": [],
   "source": []
  },
  {
   "cell_type": "markdown",
   "id": "92850aba",
   "metadata": {},
   "source": [
    "### Opdracht 2\n",
    "Teken een vierkant"
   ]
  },
  {
   "cell_type": "code",
   "execution_count": null,
   "id": "acbbf6fd-e6dc-4050-8142-782aa62cc275",
   "metadata": {},
   "outputs": [],
   "source": []
  },
  {
   "cell_type": "markdown",
   "id": "553b9e86",
   "metadata": {},
   "source": [
    "### Opdracht 3\n",
    "Teken een driehoek"
   ]
  },
  {
   "cell_type": "code",
   "execution_count": null,
   "id": "bc51d1bf",
   "metadata": {},
   "outputs": [],
   "source": []
  },
  {
   "cell_type": "markdown",
   "id": "0f0b6f48",
   "metadata": {},
   "source": [
    "### Opdracht 4\n",
    "Teken een ster"
   ]
  },
  {
   "cell_type": "code",
   "execution_count": null,
   "id": "77143d54",
   "metadata": {},
   "outputs": [],
   "source": []
  },
  {
   "cell_type": "markdown",
   "id": "94ba90cc",
   "metadata": {},
   "source": [
    "### Opdracht 5\n",
    "Teken een huis (zie voorbeeld)\n",
    "<img src=\"https://robertvandeneynde.be/parascolaire/house.svg\">"
   ]
  },
  {
   "cell_type": "code",
   "execution_count": null,
   "id": "87aa85af",
   "metadata": {},
   "outputs": [],
   "source": []
  },
{
   "cell_type": "markdown",
   "id": "432fef47",
   "metadata": {},
   "source": [
    "## Loops gebruiken met de schildpad\n",
    "Als we bijvoorbeeld een vierkant willen tekenen kunnen we gebruik maken van de onderstaande code."
   ]
  },
  {
   "cell_type": "code",
   "execution_count": null,
   "id": "25483b76",
   "metadata": {},
   "outputs": [],
   "source": [
    "t = Turtle()\n",
    "t.forward(100)\n",
    "t.right(90)\n",
    "t.forward(100)\n",
    "t.right(90)\n",
    "t.forward(100)\n",
    "t.right(90)\n",
    "t.forward(100)"
   ]
  },
  {
   "cell_type": "markdown",
   "id": "d2cf9cd3",
   "metadata": {},
   "source": [
    "Zoals je ziet bestaat dit programma uit 3 verschillende regels code, 2 die de hele tijd herhaald worden. Als we herhalende code hebben, dan kunnen we gebruik maken van een `for-range loop` om deze code voor ons uit te voeren. We zetten in de `range()` hoevaak dat de code herhaald moet worden. In dit geval moet de code `4` keer herhaald worden om een `vierkant` te tekenen."
   ]
  },
  {
   "cell_type": "code",
   "execution_count": null,
   "id": "2927a2ed",
   "metadata": {},
   "outputs": [],
   "source": [
    "t = Turtle()\n",
    "for num in range(4):\n",
    "    t.forward(100)\n",
    "    t.right(90)"
   ]
  },
  {
   "cell_type": "markdown",
   "id": "d83d13df",
   "metadata": {},
   "source": [
    "Zoals je ziet is de hoeveelheid code heel wat minder geworden en ook een stuk overzichtelijker."
   ]
  }
 ],
 "metadata": {
  "kernelspec": {
   "display_name": "Python 3 (ipykernel)",
   "language": "python",
   "name": "python3"
  },
  "language_info": {
   "codemirror_mode": {
    "name": "ipython",
    "version": 3
   },
   "file_extension": ".py",
   "mimetype": "text/x-python",
   "name": "python",
   "nbconvert_exporter": "python",
   "pygments_lexer": "ipython3",
   "version": "3.9.7"
  }
 },
 "nbformat": 4,
 "nbformat_minor": 5
}
